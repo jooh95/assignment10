{
 "cells": [
  {
   "cell_type": "markdown",
   "metadata": {},
   "source": [
    "# Assignment10 : Binary Classifiers with various parameters to classify MNIST Dataset\n",
    "# Name : Joonoh-Oh\n",
    "# Student-ID : 20146136\n",
    "# Github : https://github.com/jooh95/assignment10"
   ]
  },
  {
   "cell_type": "markdown",
   "metadata": {},
   "source": [
    "# Set the training data file and test data file."
   ]
  },
  {
   "cell_type": "code",
   "execution_count": 1,
   "metadata": {},
   "outputs": [],
   "source": [
    "import numpy as np\n",
    "\n",
    "file_data_train = \"mnist_train.csv\"\n",
    "file_data_test  = \"mnist_test.csv\"\n",
    "\n",
    "h_data_train    = open(file_data_train, \"r\")\n",
    "h_data_test     = open(file_data_test, \"r\")\n",
    "\n",
    "data_train      = h_data_train.readlines()\n",
    "data_test       = h_data_test.readlines()\n",
    "\n",
    "h_data_train.close()\n",
    "h_data_test.close()\n",
    "\n",
    "size_row    = 28    # height of the image\n",
    "size_col    = 28    # width of the image\n",
    "\n",
    "num_train   = len(data_train)   # number of training images\n",
    "num_test    = len(data_test)    # number of testing images"
   ]
  },
  {
   "cell_type": "markdown",
   "metadata": {},
   "source": [
    "# Define the various size of parameter p."
   ]
  },
  {
   "cell_type": "code",
   "execution_count": 2,
   "metadata": {},
   "outputs": [],
   "source": [
    "p = np.array([5, 25, 125, 625])"
   ]
  },
  {
   "cell_type": "markdown",
   "metadata": {},
   "source": [
    "# Define the feature function with a random vector in a normal distribution."
   ]
  },
  {
   "cell_type": "code",
   "execution_count": 3,
   "metadata": {},
   "outputs": [],
   "source": [
    "def f(x, p_r, r):\n",
    "    \n",
    "    y = np.empty(p_r, dtype=float)\n",
    "\n",
    "    for i in range(0, p_r):\n",
    "        y[i] = np.dot(r[i].T, x)\n",
    "    \n",
    "    return y"
   ]
  },
  {
   "cell_type": "markdown",
   "metadata": {},
   "source": [
    "# Define an activation function which is the argmax function."
   ]
  },
  {
   "cell_type": "code",
   "execution_count": 4,
   "metadata": {},
   "outputs": [],
   "source": [
    "def argmax(x):\n",
    "    \n",
    "    max_x = -9999\n",
    "    \n",
    "    idx = 0\n",
    "    \n",
    "    for i in range(0, 10):\n",
    "        if(max_x < x[i]):\n",
    "            max_x = x[i]\n",
    "            idx = i\n",
    "            \n",
    "    return idx"
   ]
  },
  {
   "cell_type": "markdown",
   "metadata": {},
   "source": [
    "# Define the normalize function."
   ]
  },
  {
   "cell_type": "code",
   "execution_count": 5,
   "metadata": {},
   "outputs": [],
   "source": [
    "def normalize(data):\n",
    "\n",
    "    data_normalized = (data - min(data)) / (max(data) - min(data))\n",
    "\n",
    "    return(data_normalized)"
   ]
  },
  {
   "cell_type": "markdown",
   "metadata": {},
   "source": [
    "# Make a matrix each column of which represents an images in a vector form."
   ]
  },
  {
   "cell_type": "code",
   "execution_count": 6,
   "metadata": {},
   "outputs": [],
   "source": [
    "list_image_train    = np.empty((size_row * size_col, num_train), dtype=float)\n",
    "list_label_train    = np.empty(num_train, dtype=int)\n",
    "\n",
    "list_image_test     = np.empty((size_row * size_col, num_test), dtype=float)\n",
    "list_label_test     = np.empty(num_test, dtype=int)"
   ]
  },
  {
   "cell_type": "markdown",
   "metadata": {},
   "source": [
    "# Define a function to get each theta in various parameters."
   ]
  },
  {
   "cell_type": "code",
   "execution_count": 7,
   "metadata": {},
   "outputs": [],
   "source": [
    "def get_theta(select,p, n, r):\n",
    "    count = 0\n",
    "    for line in data_train:\n",
    "\n",
    "        line_data   = line.split(',')\n",
    "        label       = line_data[0]\n",
    "        im_vector   = np.asfarray(line_data[1:])\n",
    "        im_vector   = normalize(im_vector)\n",
    "\n",
    "        if(label == str(select)):\n",
    "            list_label_train[count] = 1\n",
    "        else :\n",
    "                list_label_train[count] = -1\n",
    "\n",
    "        list_image_train[:, count]  = im_vector \n",
    "\n",
    "        count += 1\n",
    "    \n",
    "    A = np.empty((num_train,p[n]), dtype=float)\n",
    "\n",
    "    for i in range(0, num_train):\n",
    "        A[i] = f(list_image_train[:,i], p[n], r)\n",
    "        \n",
    "    theta = np.dot(np.dot(np.linalg.inv(np.dot(A.T,A)),A.T),list_label_train[:])\n",
    "    \n",
    "    return theta"
   ]
  },
  {
   "cell_type": "markdown",
   "metadata": {},
   "source": [
    "# Get the test data."
   ]
  },
  {
   "cell_type": "code",
   "execution_count": 8,
   "metadata": {},
   "outputs": [],
   "source": [
    "count = 0\n",
    "\n",
    "for line in data_test:\n",
    "\n",
    "    line_data   = line.split(',')\n",
    "    label       = line_data[0]\n",
    "    im_vector   = np.asfarray(line_data[1:])\n",
    "    im_vector   = normalize(im_vector)\n",
    "\n",
    "    for j in range(0, 10):\n",
    "        if(label == str(j)):\n",
    "            list_label_test[count] = j\n",
    "        \n",
    "    list_image_test[:, count]   = im_vector    \n",
    "\n",
    "    count += 1"
   ]
  },
  {
   "cell_type": "markdown",
   "metadata": {},
   "source": [
    "# Calculate the theta values and visualize them with various parameters."
   ]
  },
  {
   "cell_type": "code",
   "execution_count": 9,
   "metadata": {},
   "outputs": [
    {
     "name": "stdout",
     "output_type": "stream",
     "text": [
      "Confusion Matrix when p =  5\n",
      "[[704  32 213 210  55 423 318  15 141  20]\n",
      " [ 23 580  57  68 145  25  31  81  62  66]\n",
      " [  5  15  27   5  17   5  20  14  10   8]\n",
      " [ 41   2  43 253  76  76  63  43  44  59]\n",
      " [  4   8  18   9  24   6  14  11   6  22]\n",
      " [  0   0   1  14   1  11   1   0   0   0]\n",
      " [ 59   9 105  41  44  73 207  19  37  21]\n",
      " [  5  77  76  88 137  57  20 397  45 143]\n",
      " [ 87 250 342 188 125 169 197 170 582  81]\n",
      " [ 52 162 150 134 358  47  87 278  47 589]]\n",
      "F1 Score is  0.5045610886795274  when p =  5\n",
      "Confusion Matrix when p =  25\n",
      "[[ 805    1   29   60   25   69   96   40   18   52]\n",
      " [  11 1041   72   57   30   85   36   37   73   30]\n",
      " [  12   29  725   70   32   19   42   19   26   10]\n",
      " [  24   19   33  657    8  158    0   20   79   21]\n",
      " [   5   15   37    3  660   28   33   56   42  184]\n",
      " [   8    3    6   71   21  337    7   11   35   33]\n",
      " [  61    7   45   23   48   47  724    6   46   42]\n",
      " [   9    1   25   31   17   48    4  745   25  113]\n",
      " [  38   18   54   33   85   71   10   15  588   64]\n",
      " [   7    1    6    5   56   30    6   79   42  460]]\n",
      "F1 Score is  0.805399593835862  when p =  25\n",
      "Confusion Matrix when p =  125\n",
      "[[ 936    0   23    8    1   33   16    7   15   23]\n",
      " [   0 1094   70   19   21   16   13   38   70   13]\n",
      " [   3    7  793   29    9   14    6   23   10    7]\n",
      " [   2    2   28  849    2  106    1    6   35   18]\n",
      " [   0    1   17    4  864   25   20   19   16   70]\n",
      " [  10    1    0   24    2  546   20    0   36    4]\n",
      " [  16    6   26   12   18   37  875    2   29    3]\n",
      " [   2    2   25   36    1   19    1  887   21   55]\n",
      " [  10   22   45   20   14   81    6    6  720   11]\n",
      " [   1    0    5    9   50   15    0   40   22  805]]\n",
      "F1 Score is  0.9112091022919048  when p =  125\n",
      "Confusion Matrix when p =  625\n",
      "[[ 943    0   17    4    0   20   19    5   17   18]\n",
      " [   0 1107   56   16   23   19    9   37   56   10]\n",
      " [   1    2  811   25    6    2   10   17    9    2]\n",
      " [   2    2   29  885    2   84    0    8   32   15]\n",
      " [   1    1   17    2  869   19   20   20   27   72]\n",
      " [   7    1    0   14    5  625   20    1   41    1]\n",
      " [  15    5   41    8   10   21  871    1   15    1]\n",
      " [   2    2   19   21    2   13    0  876   11   77]\n",
      " [   7   15   38   24   13   67    9    3  744   13]\n",
      " [   2    0    4   11   52   22    0   60   22  800]]\n",
      "F1 Score is  0.9207274297123738  when p =  625\n"
     ]
    }
   ],
   "source": [
    "max_f1 = 0;\n",
    "    \n",
    "for n in range(0, 4):\n",
    "    \n",
    "    c_m = np.zeros((10, 10), dtype=int)\n",
    "    \n",
    "    r = np.random.normal(0, 1, (p[n],size_row*size_col))\n",
    "    \n",
    "    theta = np.empty((10,p[n]),dtype=float)\n",
    "    \n",
    "    for i in range(0, 10):\n",
    "        theta[i] = get_theta(i, p, n, r)\n",
    "        \n",
    "\n",
    "    X = np.empty((num_test, p[n]), dtype=float)\n",
    "    \n",
    "    for i in range(0, num_test):\n",
    "        X[i] = f(list_image_test[:,i], p[n],r)\n",
    "        \n",
    "    tp = 0\n",
    "    fp = 0\n",
    "    fn = 0\n",
    "    \n",
    "    for i in range(0, num_test) :\n",
    "        \n",
    "        guesses = np.zeros(10, dtype=float)\n",
    "        \n",
    "        for j in range(0, 10):\n",
    "            guesses[j] = np.dot(X[i], theta[j].T)\n",
    "            \n",
    "        guess = argmax(guesses)\n",
    "            \n",
    "        for l in range(0, 10):\n",
    "            for k in range(0, 10):\n",
    "                if(guess == l and list_label_test[i] == k):\n",
    "                    c_m[l][k] = c_m[l][k] + 1\n",
    "                    if(l == k):\n",
    "                        tp = tp + 1\n",
    "                    elif(l > k):\n",
    "                        fp = fp + 1\n",
    "                    elif(l < k):\n",
    "                        fn = fn + 1\n",
    "    print(\"Confusion Matrix when p = \", p[n])                    \n",
    "    print(c_m)\n",
    "    \n",
    "    precision = (tp / (tp + fp))\n",
    "    recall = (tp / (tp + fn))\n",
    "    \n",
    "    f1 = 2 * ((precision * recall) / (precision + recall))\n",
    "    \n",
    "    print(\"F1 Score is \", f1 , \" when p = \", p[n])\n",
    "    \n",
    "    if(f1 > max_f1):\n",
    "        max_f1 = f1 "
   ]
  },
  {
   "cell_type": "markdown",
   "metadata": {},
   "source": [
    "# Calculate the best F1 score."
   ]
  },
  {
   "cell_type": "code",
   "execution_count": 10,
   "metadata": {},
   "outputs": [
    {
     "name": "stdout",
     "output_type": "stream",
     "text": [
      "The best F1 Score is  0.9207274297123738\n"
     ]
    }
   ],
   "source": [
    "print(\"The best F1 Score is \", max_f1)"
   ]
  }
 ],
 "metadata": {
  "kernelspec": {
   "display_name": "Python 3",
   "language": "python",
   "name": "python3"
  },
  "language_info": {
   "codemirror_mode": {
    "name": "ipython",
    "version": 3
   },
   "file_extension": ".py",
   "mimetype": "text/x-python",
   "name": "python",
   "nbconvert_exporter": "python",
   "pygments_lexer": "ipython3",
   "version": "3.6.7"
  }
 },
 "nbformat": 4,
 "nbformat_minor": 2
}
